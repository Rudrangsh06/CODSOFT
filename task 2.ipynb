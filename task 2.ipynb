{
  "nbformat": 4,
  "nbformat_minor": 0,
  "metadata": {
    "colab": {
      "provenance": []
    },
    "kernelspec": {
      "name": "python3",
      "display_name": "Python 3"
    },
    "language_info": {
      "name": "python"
    }
  },
  "cells": [
    {
      "cell_type": "code",
      "execution_count": 3,
      "metadata": {
        "id": "Fb0BM2Z18xzd"
      },
      "outputs": [],
      "source": [
        "\n"
      ]
    },
    {
      "cell_type": "code",
      "source": [
        "import pandas as pd\n",
        "import numpy as np\n",
        "from sklearn.model_selection import train_test_split\n",
        "from sklearn.preprocessing import StandardScaler\n",
        "from sklearn.linear_model import LogisticRegression\n",
        "from sklearn.ensemble import RandomForestClassifier\n",
        "from sklearn.metrics import classification_report, precision_score, recall_score, f1_score\n",
        "from imblearn.over_sampling import SMOTE\n",
        "from imblearn.under_sampling import RandomUnderSampler\n",
        "from imblearn.pipeline import Pipeline\n",
        "\n",
        "# Load the dataset\n",
        "# Assuming the dataset is in a CSV file called 'creditcard.csv'\n",
        "data = pd.read_csv('/creditcard.csv')\n",
        "\n",
        "# Separate features and target variable\n",
        "X = data.drop('Class', axis=1)\n",
        "y = data['Class']\n",
        "\n",
        "# Check for missing values in the target variable and handle them (e.g., remove rows with missing values)\n",
        "y = y.dropna()\n",
        "X = X.loc[y.index]\n",
        "\n",
        "# Split the data into training and testing sets\n",
        "X_train, X_test, y_train, y_test = train_test_split(X, y, test_size=0.2, random_state=42, stratify=y)\n",
        "\n",
        "# Normalize the data\n",
        "scaler = StandardScaler()\n",
        "X_train_scaled = scaler.fit_transform(X_train)\n",
        "X_test_scaled = scaler.transform(X_test)\n",
        "\n",
        "# Handle class imbalance using SMOTE (oversampling the minority class)\n",
        "smote = SMOTE(sampling_strategy='auto', random_state=42)\n",
        "X_train_res, y_train_res = smote.fit_resample(X_train_scaled, y_train)\n",
        "\n",
        "\n",
        "# Train a Logistic Regression model\n",
        "lr_model = LogisticRegression(random_state=42)\n",
        "lr_model.fit(X_train_res, y_train_res)\n",
        "\n",
        "# Train a Random Forest Classifier model\n",
        "rf_model = RandomForestClassifier(random_state=42)\n",
        "rf_model.fit(X_train_res, y_train_res)\n",
        "\n",
        "# Evaluate the models\n",
        "def evaluate_model(model, X_test, y_test):\n",
        "    y_pred = model.predict(X_test)\n",
        "    print(f'Precision: {precision_score(y_test, y_pred)}')\n",
        "    print(f'Recall: {recall_score(y_test, y_pred)}')\n",
        "    print(f'F1-Score: {f1_score(y_test, y_pred)}')\n",
        "    print(classification_report(y_test, y_pred))\n",
        "\n",
        "print(\"Logistic Regression Model Performance:\")\n",
        "evaluate_model(lr_model, X_test_scaled, y_test)\n",
        "\n",
        "print(\"Random Forest Model Performance:\")\n",
        "evaluate_model(rf_model, X_test_scaled, y_test)"
      ],
      "metadata": {
        "colab": {
          "base_uri": "https://localhost:8080/"
        },
        "id": "KLnCoi7j_PqA",
        "outputId": "d7817f9a-f575-4057-88b2-ac5049f927e8"
      },
      "execution_count": 3,
      "outputs": [
        {
          "output_type": "stream",
          "name": "stderr",
          "text": [
            "/usr/local/lib/python3.10/dist-packages/sklearn/linear_model/_logistic.py:458: ConvergenceWarning: lbfgs failed to converge (status=1):\n",
            "STOP: TOTAL NO. of ITERATIONS REACHED LIMIT.\n",
            "\n",
            "Increase the number of iterations (max_iter) or scale the data as shown in:\n",
            "    https://scikit-learn.org/stable/modules/preprocessing.html\n",
            "Please also refer to the documentation for alternative solver options:\n",
            "    https://scikit-learn.org/stable/modules/linear_model.html#logistic-regression\n",
            "  n_iter_i = _check_optimize_result(\n"
          ]
        },
        {
          "output_type": "stream",
          "name": "stdout",
          "text": [
            "Logistic Regression Model Performance:\n",
            "Precision: 0.1165644171779141\n",
            "Recall: 0.9047619047619048\n",
            "F1-Score: 0.20652173913043476\n",
            "              precision    recall  f1-score   support\n",
            "\n",
            "         0.0       1.00      0.98      0.99      7920\n",
            "         1.0       0.12      0.90      0.21        21\n",
            "\n",
            "    accuracy                           0.98      7941\n",
            "   macro avg       0.56      0.94      0.60      7941\n",
            "weighted avg       1.00      0.98      0.99      7941\n",
            "\n",
            "Random Forest Model Performance:\n",
            "Precision: 0.95\n",
            "Recall: 0.9047619047619048\n",
            "F1-Score: 0.9268292682926829\n",
            "              precision    recall  f1-score   support\n",
            "\n",
            "         0.0       1.00      1.00      1.00      7920\n",
            "         1.0       0.95      0.90      0.93        21\n",
            "\n",
            "    accuracy                           1.00      7941\n",
            "   macro avg       0.97      0.95      0.96      7941\n",
            "weighted avg       1.00      1.00      1.00      7941\n",
            "\n"
          ]
        }
      ]
    }
  ]
}